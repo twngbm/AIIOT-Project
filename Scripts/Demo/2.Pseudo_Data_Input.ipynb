{
 "cells": [
  {
   "cell_type": "markdown",
   "metadata": {},
   "source": [
    "# Demo IoT Sensor Data Input\n",
    "**Simulation the sensor sensing environment and sending data into our system, which setup in [1.Setup_Env](./1.Setup_Env.ipynb), Step 1~5.**"
   ]
  },
  {
   "cell_type": "markdown",
   "metadata": {},
   "source": [
    "## 1. Import Required Lib"
   ]
  },
  {
   "cell_type": "code",
   "execution_count": 49,
   "metadata": {},
   "outputs": [],
   "source": [
    "import json\n",
    "import csv\n",
    "import requests\n",
    "import time\n",
    "import os\n",
    "import copy"
   ]
  },
  {
   "cell_type": "markdown",
   "metadata": {},
   "source": [
    "## 2. Setup Env Var\n",
    "**\\_\\_AIOTCORE\\_\\_ is the aiot-core publice interface's IP address of aiot-core container.**\n",
    "\n",
    "**\\_\\_IOTA\\_UL\\_\\_  and \\_\\_IOTA\\_JSON\\_\\_ are the iot-agent publice interface's IP address of both container.**"
   ]
  },
  {
   "cell_type": "code",
   "execution_count": 50,
   "metadata": {},
   "outputs": [],
   "source": [
    "__AIOTCORE__=\"http://127.0.0.1:9250\"\n",
    "__IOTA_UL__=\"http://127.0.0.1:7896\"\n",
    "__IOTA_JSON__=\"http://127.0.0.1:7897\""
   ]
  },
  {
   "cell_type": "markdown",
   "metadata": {},
   "source": [
    "## 3. Show All Usuable Dataset Name"
   ]
  },
  {
   "cell_type": "code",
   "execution_count": 51,
   "metadata": {},
   "outputs": [
    {
     "name": "stdout",
     "output_type": "stream",
     "text": [
      "available dataset name:\n",
      "artificialWithAnomaly/art_daily_jumpsdown.csv\n",
      "artificialWithAnomaly/art_daily_flatmiddle.csv\n",
      "artificialWithAnomaly/art_daily_nojump.csv\n",
      "artificialWithAnomaly/art_load_balancer_spikes.csv\n",
      "artificialWithAnomaly/art_daily_jumpsup.csv\n",
      "artificialWithAnomaly/art_increase_spike_density.csv\n",
      "realTraffic/occupancy_t4013.csv\n",
      "realTraffic/speed_7578.csv\n",
      "realTraffic/speed_6005.csv\n",
      "realTraffic/TravelTime_387.csv\n",
      "realTraffic/speed_t4013.csv\n",
      "realTraffic/TravelTime_451.csv\n",
      "realTraffic/occupancy_6005.csv\n",
      "realKnownCause/ambient_temperature_system_failure.csv\n",
      "realKnownCause/machine_temperature_system_failure.csv\n",
      "realKnownCause/rogue_agent_key_updown.csv\n",
      "realKnownCause/ec2_request_latency_system_failure.csv\n",
      "realKnownCause/rogue_agent_key_hold.csv\n",
      "realKnownCause/cpu_utilization_asg_misconfiguration.csv\n",
      "realKnownCause/nyc_taxi.csv\n",
      "realAdExchange/exchange-3_cpc_results.csv\n",
      "realAdExchange/exchange-2_cpc_results.csv\n",
      "realAdExchange/exchange-3_cpm_results.csv\n",
      "realAdExchange/exchange-2_cpm_results.csv\n",
      "realAdExchange/exchange-4_cpc_results.csv\n",
      "realAdExchange/exchange-4_cpm_results.csv\n",
      "realTweets/Twitter_volume_IBM.csv\n",
      "realTweets/Twitter_volume_AAPL.csv\n",
      "realTweets/Twitter_volume_CVS.csv\n",
      "realTweets/Twitter_volume_KO.csv\n",
      "realTweets/Twitter_volume_GOOG.csv\n",
      "realTweets/Twitter_volume_PFE.csv\n",
      "realTweets/Twitter_volume_CRM.csv\n",
      "realTweets/Twitter_volume_AMZN.csv\n",
      "realTweets/Twitter_volume_FB.csv\n",
      "realTweets/Twitter_volume_UPS.csv\n",
      "artificialNoAnomaly/art_daily_no_noise.csv\n",
      "artificialNoAnomaly/art_noisy.csv\n",
      "artificialNoAnomaly/art_daily_perfect_square_wave.csv\n",
      "artificialNoAnomaly/art_daily_small_noise.csv\n",
      "artificialNoAnomaly/art_flatline.csv\n",
      "realAWSCloudwatch/ec2_disk_write_bytes_1ef3de.csv\n",
      "realAWSCloudwatch/grok_asg_anomaly.csv\n",
      "realAWSCloudwatch/ec2_cpu_utilization_fe7f93.csv\n",
      "realAWSCloudwatch/ec2_cpu_utilization_53ea38.csv\n",
      "realAWSCloudwatch/iio_us-east-1_i-a2eb1cd9_NetworkIn.csv\n",
      "realAWSCloudwatch/ec2_cpu_utilization_c6585a.csv\n",
      "realAWSCloudwatch/elb_request_count_8c0756.csv\n",
      "realAWSCloudwatch/ec2_cpu_utilization_825cc2.csv\n",
      "realAWSCloudwatch/ec2_cpu_utilization_5f5533.csv\n",
      "realAWSCloudwatch/ec2_network_in_5abac7.csv\n",
      "realAWSCloudwatch/ec2_disk_write_bytes_c0d644.csv\n",
      "realAWSCloudwatch/rds_cpu_utilization_e47b3b.csv\n",
      "realAWSCloudwatch/ec2_cpu_utilization_ac20cd.csv\n",
      "realAWSCloudwatch/ec2_network_in_257a54.csv\n",
      "realAWSCloudwatch/ec2_cpu_utilization_24ae8d.csv\n",
      "realAWSCloudwatch/ec2_cpu_utilization_77c1ca.csv\n",
      "realAWSCloudwatch/rds_cpu_utilization_cc0c53.csv\n"
     ]
    }
   ],
   "source": [
    "dirlist=os.listdir(\"../../Dataset/NAB/\")\n",
    "try:\n",
    "    dirlist.remove(\"README.md\")\n",
    "except:\n",
    "    pass\n",
    "try:\n",
    "    dirlist.remove(\"combined_windows.json\")\n",
    "except:\n",
    "    pass\n",
    "filelist=[]\n",
    "for dirname in dirlist:\n",
    "    try:\n",
    "        file=os.listdir(f\"../../Dataset/NAB/{dirname}/\")\n",
    "        for i in file:\n",
    "            filelist.append(f\"{dirname}/{i}\")\n",
    "    except:\n",
    "        pass\n",
    "filedict={x:[] for x in filelist}\n",
    "print(\"available dataset name:\")\n",
    "for file_name in filedict:\n",
    "    print(file_name)"
   ]
  },
  {
   "cell_type": "markdown",
   "metadata": {},
   "source": [
    "## 4. Pick Wanted Dataset and Load Data Into Memory"
   ]
  },
  {
   "cell_type": "code",
   "execution_count": 52,
   "metadata": {},
   "outputs": [
    {
     "name": "stdout",
     "output_type": "stream",
     "text": [
      "Data Loaded:\n",
      "artificialWithAnomaly/art_daily_jumpsdown.csv:\n",
      "('2014-04-01T00:00', 18.090486228499998)\n",
      "('2014-04-01T00:05', 20.359842585899997)\n",
      "('2014-04-01T00:10', 21.105469847200002)\n",
      "('2014-04-01T00:15', 21.1515852522)\n",
      "('2014-04-01T00:20', 18.1371405424)\n",
      "('2014-04-01T00:25', 21.6256605306)\n",
      "('2014-04-01T00:30', 21.6738066877)\n",
      "('2014-04-01T00:35', 20.2455614926)\n",
      "('2014-04-01T00:40', 19.9283327955)\n",
      "('2014-04-01T00:45', 18.1794698523)\n",
      "...\n",
      "artificialWithAnomaly/art_daily_jumpsup.csv:\n",
      "('2014-04-01T00:00', 19.761251902999998)\n",
      "('2014-04-01T00:05', 20.500833287)\n",
      "('2014-04-01T00:10', 19.9616414445)\n",
      "('2014-04-01T00:15', 21.4902660734)\n",
      "('2014-04-01T00:20', 20.1877394098)\n",
      "('2014-04-01T00:25', 19.9231256718)\n",
      "('2014-04-01T00:30', 21.698403961700002)\n",
      "('2014-04-01T00:35', 20.8787583842)\n",
      "('2014-04-01T00:40', 18.4461996294)\n",
      "('2014-04-01T00:45', 18.7108178448)\n",
      "...\n",
      "realKnownCause/machine_temperature_system_failure.csv:\n",
      "('2013-12-02T21:15', 73.96732207)\n",
      "('2013-12-02T21:20', 74.93588199999998)\n",
      "('2013-12-02T21:25', 76.12416182)\n",
      "('2013-12-02T21:30', 78.14070732)\n",
      "('2013-12-02T21:35', 79.32983574)\n",
      "('2013-12-02T21:40', 78.71041827)\n",
      "('2013-12-02T21:45', 80.26978421)\n",
      "('2013-12-02T21:50', 80.27282792)\n",
      "('2013-12-02T21:55', 80.35342468)\n",
      "('2013-12-02T22:00', 79.48652315)\n",
      "...\n",
      "realKnownCause/ec2_request_latency_system_failure.csv:\n",
      "('2014-03-07T03:41', 45.868)\n",
      "('2014-03-07T03:46', 47.606)\n",
      "('2014-03-07T03:51', 42.58)\n",
      "('2014-03-07T03:56', 46.03)\n",
      "('2014-03-07T04:01', 44.992)\n",
      "('2014-03-07T04:06', 45.238)\n",
      "('2014-03-07T04:11', 45.751999999999995)\n",
      "('2014-03-07T04:16', 46.476000000000006)\n",
      "('2014-03-07T04:21', 42.751999999999995)\n",
      "('2014-03-07T04:26', 46.15600000000001)\n",
      "...\n"
     ]
    }
   ],
   "source": [
    "wanted=[\"artificialWithAnomaly/art_daily_jumpsdown.csv\",\n",
    "        \"artificialWithAnomaly/art_daily_jumpsup.csv\",\n",
    "        \"realKnownCause/ec2_request_latency_system_failure.csv\",\n",
    "        \"realKnownCause/machine_temperature_system_failure.csv\"]\n",
    "\n",
    "for dirname in dirlist:\n",
    "    filelist=os.listdir(f\"../../Dataset/NAB/{dirname}/\")\n",
    "    for file in filelist:\n",
    "        if f\"{dirname}/{file}\" not in wanted:\n",
    "            continue\n",
    "        with open(f\"../../Dataset/NAB/{dirname}/{file}\",\"r\") as f:\n",
    "            data=f.readlines()\n",
    "            data.pop(0)\n",
    "            for idx,line in enumerate(data):\n",
    "                time=line.split(\",\")[0].replace(\" \",\"T\")[0:-3]\n",
    "                value=float(line.split(\",\")[1])\n",
    "                filedict[f\"{dirname}/{file}\"].append((time,value))\n",
    "print(\"Data Loaded:\")\n",
    "for file_name,datalist in filedict.items():\n",
    "    if file_name not in wanted:\n",
    "        continue\n",
    "    print(f\"{file_name}:\")\n",
    "    for d in datalist[0:10]:\n",
    "        print(d)\n",
    "    print(\"...\")\n",
    "    "
   ]
  },
  {
   "cell_type": "markdown",
   "metadata": {},
   "source": [
    "## Get Iot Agent Setting From AIOT-CORE"
   ]
  },
  {
   "cell_type": "code",
   "execution_count": 53,
   "metadata": {},
   "outputs": [
    {
     "name": "stdout",
     "output_type": "stream",
     "text": [
      "{'artificialWithAnomaly/art_daily_jumpsdown.csv': {'DeviceID': 'SG_Artifical:Sensor01',\n",
      "                                                   'Resource': '/iot/d',\n",
      "                                                   'agentURL': 'http://140.116.72.250:7896',\n",
      "                                                   'apikey': 'vpCNt19G3gNJPfE21V7w6oUcYY'},\n",
      " 'artificialWithAnomaly/art_daily_jumpsup.csv': {'DeviceID': 'SG_Artifical:Sensor02',\n",
      "                                                 'Resource': '/iot/json',\n",
      "                                                 'agentURL': 'http://140.116.72.250:7897',\n",
      "                                                 'apikey': 'wiUIlRLOAuS0Nv3mCxrhJnAsVP'},\n",
      " 'realKnownCause/ec2_request_latency_system_failure.csv': {'DeviceID': 'SG_Real:Sensor01',\n",
      "                                                           'Resource': '/iot/d',\n",
      "                                                           'agentURL': 'http://140.116.72.250:7896',\n",
      "                                                           'apikey': 'vpCNt19G3gNJPfE21V7w6oUcYY'},\n",
      " 'realKnownCause/machine_temperature_system_failure.csv': {'DeviceID': 'SG_Real:Sensor02',\n",
      "                                                           'Resource': '/iot/json',\n",
      "                                                           'agentURL': 'http://140.116.72.250:7897',\n",
      "                                                           'apikey': 'wiUIlRLOAuS0Nv3mCxrhJnAsVP'}}\n"
     ]
    }
   ],
   "source": [
    "import pprint\n",
    "deviceInfo={}\n",
    "service_group=requests.get(f\"{__AIOTCORE__}/service-groups\").json()['value']\n",
    "for SG in service_group:\n",
    "    devices=requests.get(f\"{__AIOTCORE__}/service-groups/{SG}\").json()[\"Device\"]\n",
    "    for DeviceName in devices:\n",
    "        url=f\"{__AIOTCORE__}/devices/{SG}/{DeviceName}\"\n",
    "        data=requests.get(url).json()\n",
    "        agentURL=data[\"iotagent_config\"][\"Iot-Agent-Url\"].split(\":\")[0:2]+[str(data[\"iotagent_config\"][\"Device-Port\"])]\n",
    "        agentURL=\":\".join(agentURL)\n",
    "        if \"7897\" in agentURL:\n",
    "            agentURL=__IOTA_JSON__\n",
    "        else:\n",
    "            agentURL=__IOTA_UL__\n",
    "        apikey=data[\"iotagent_config\"][\"apikey\"]\n",
    "        Resource=data[\"iotagent_config\"][\"Resource\"]\n",
    "        DeviceID=f\"{SG}:{DeviceName}\"\n",
    "        filename=data[\"static_attributes\"][\"fieldName\"]+\".csv\"\n",
    "        for i in filedict:\n",
    "            if filename in i:\n",
    "                filename=i\n",
    "                break\n",
    "        deviceInfo[filename]={\"agentURL\":agentURL,\"apikey\":apikey,\"Resource\":Resource,\"DeviceID\":DeviceID}\n",
    "pprint.pprint(deviceInfo)\n",
    "filedata=copy.deepcopy(filedict)"
   ]
  },
  {
   "cell_type": "markdown",
   "metadata": {},
   "source": [
    "## Start Feeding Data\n",
    "**Delay Period is the IoT Device sensing cycle time in second, must not be smaller than 4**"
   ]
  },
  {
   "cell_type": "code",
   "execution_count": null,
   "metadata": {},
   "outputs": [],
   "source": [
    "import time \n",
    "delay_period=4\n",
    "\n",
    "\n",
    "count=0\n",
    "while count!=len(wanted)-1:\n",
    "    count=0\n",
    "    for file,content in filedata.items():\n",
    "        try:\n",
    "            data=content.pop(0)\n",
    "        except:\n",
    "            count+=1\n",
    "            continue\n",
    "        device=deviceInfo[file]\n",
    "        agentURL=device[\"agentURL\"]\n",
    "        apikey=device[\"apikey\"]\n",
    "        Resource=device[\"Resource\"]\n",
    "        DeviceID=device[\"DeviceID\"]\n",
    "        if \"7897\" in agentURL:\n",
    "            header = {\"Content-Type\": \"application/json\"}\n",
    "            body = {\"COUNT\" : str(data[1]) , \"TS\": data[0]}\n",
    "            print(f\"Request URL:{agentURL}{Resource}?k={apikey}&i={DeviceID}\")\n",
    "            print(f\"Request Data:{body}\")\n",
    "            r = requests.post(agentURL+Resource+\"?k=\"+apikey+\"&i=\"+DeviceID,\n",
    "                headers=header,\n",
    "                data=json.dumps(body),\n",
    "            )\n",
    "            print(r.status_code,r.text)\n",
    "        else:\n",
    "            header = {\"Content-Type\": \"text/plain\"}\n",
    "            body = \"COUNT|\" + str(data[1]) + \"|TS|\" + data[0]\n",
    "            print(f\"Request URL:{agentURL}{Resource}?k={apikey}&i={DeviceID}\")\n",
    "            print(f\"Request Data:{body}\")\n",
    "            r = requests.post(agentURL+Resource+\"?k=\"+apikey+\"&i=\"+DeviceID,\n",
    "                headers=header,\n",
    "                data=body\n",
    "            )\n",
    "            print(r.status_code,r.text)\n",
    "    time.sleep(int(delay_period))\n",
    "\n",
    "print(\"End\")"
   ]
  }
 ],
 "metadata": {
  "kernelspec": {
   "display_name": "Python 3",
   "language": "python",
   "name": "python3"
  },
  "language_info": {
   "codemirror_mode": {
    "name": "ipython",
    "version": 3
   },
   "file_extension": ".py",
   "mimetype": "text/x-python",
   "name": "python",
   "nbconvert_exporter": "python",
   "pygments_lexer": "ipython3",
   "version": "3.8.0"
  }
 },
 "nbformat": 4,
 "nbformat_minor": 4
}