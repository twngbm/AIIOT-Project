{
 "cells": [
  {
   "cell_type": "markdown",
   "metadata": {},
   "source": [
    "# Demo IoT Environment Setup\n",
    "![](../../Document/Images/Simulation.png)"
   ]
  },
  {
   "cell_type": "markdown",
   "metadata": {},
   "source": [
    "## 1. Import Required Lib"
   ]
  },
  {
   "cell_type": "code",
   "execution_count": null,
   "metadata": {},
   "outputs": [],
   "source": [
    "import requests\n",
    "import json"
   ]
  },
  {
   "cell_type": "markdown",
   "metadata": {},
   "source": [
    "## 2. Setup Env Var\n",
    "**\\_\\_AIOTCORE\\_\\_ is the aiot-core publice interface's IP address of aiot-core container.**\n",
    "\n",
    "**CB, CB_PORT, HM, HM_PORT, AIOT_CORE, AIOT_CORE_PORT and CRATEDB are defined in AIIOT-Project/Scripts/Setup/install.sh**"
   ]
  },
  {
   "cell_type": "code",
   "execution_count": null,
   "metadata": {},
   "outputs": [],
   "source": [
    "__AIOTCORE__=\"http://127.0.0.1:9250\"\n",
    "CB=\"aiot-cb\"\n",
    "CB_PORT=\"1026\"\n",
    "HM=\"aiot-hm\"\n",
    "HM_PORT=\"8668\"\n",
    "AIOT_CORE=\"aiot-core\"\n",
    "AIOT_CORE_PORT=\"9250\"\n",
    "CRATEDB=\"aiot-cratedb\"\n",
    "\n",
    "data={\n",
    "    \"system_setting\":{\n",
    "        \"ORION\":f\"http://{CB}:{CB_PORT}\",\n",
    "        \"QUANTUMLEAP\":f\"http://{HM}:{HM_PORT}\",\n",
    "        \"AIOTDFC\":f\"http://{AIOT_CORE}:{AIOT_CORE_PORT}\",\n",
    "        \"CRATEDB\":f\"http://{CRATEDB}:4200\"\n",
    "    }}\n",
    "r=requests.post(__AIOTCORE__+\"/init\",data=json.dumps(data))\n",
    "print(r.status_code,r.text)"
   ]
  },
  {
   "cell_type": "markdown",
   "metadata": {},
   "source": [
    "## 3. Setup Demo Environment Entitys"
   ]
  },
  {
   "cell_type": "markdown",
   "metadata": {},
   "source": [
    "**3.1. Setup House Enitity**"
   ]
  },
  {
   "cell_type": "code",
   "execution_count": null,
   "metadata": {},
   "outputs": [],
   "source": [
    "houseData={\n",
    "   \"type\":\"House\",\n",
    "   \"id\":\"Rteslab\",\n",
    "   \"metadata\":\n",
    "       {\"timezone\":\"Asia/Taipei\",\n",
    "       \"address\":{\n",
    "            \"streetAddress\":\"No.1, University Road\",\n",
    "            \"addressRegion\":\"Tainan City\",\n",
    "            \"Country\":\"Taiwan,R.O.C.\"\n",
    "            }\n",
    "        } \n",
    "}\n",
    "r=requests.post(__AIOTCORE__+\"/entities\",data=json.dumps(houseData))\n",
    "print(\"House Set Status\",r.status_code,r.text)"
   ]
  },
  {
   "cell_type": "markdown",
   "metadata": {},
   "source": [
    "**3.2. Setup Floor Entities**"
   ]
  },
  {
   "cell_type": "code",
   "execution_count": null,
   "metadata": {},
   "outputs": [],
   "source": [
    "floorDatas=[\n",
    "    {\n",
    "    \"type\":\"Floor\",\n",
    "    \"id\":\"1F\",\n",
    "    \"metadata\":{\"relationship\":\"urn:ngsi-ld:House:Rteslab\"}\n",
    "    },\n",
    "    {\n",
    "    \"type\":\"Floor\",\n",
    "    \"id\":\"2F\",\n",
    "    \"metadata\":{\"relationship\":\"urn:ngsi-ld:House:Rteslab\"}\n",
    "    },\n",
    "    {\n",
    "    \"type\":\"Floor\",\n",
    "    \"id\":\"B1\",\n",
    "    \"metadata\":{\"relationship\":\"urn:ngsi-ld:House:Rteslab\"}\n",
    "    }\n",
    "]\n",
    "for floor in floorDatas:\n",
    "    r=requests.post(__AIOTCORE__+\"/entities\",data=json.dumps(floor))\n",
    "    print(\"Floor Set Status\",r.status_code,r.text)"
   ]
  },
  {
   "cell_type": "markdown",
   "metadata": {},
   "source": [
    "**3.3. Setup Room Entities**"
   ]
  },
  {
   "cell_type": "code",
   "execution_count": null,
   "metadata": {},
   "outputs": [],
   "source": [
    "roomDatas=[\n",
    "    {\n",
    "    \"type\":\"Room\",\n",
    "    \"id\":\"Kitchen\",\n",
    "    \"metadata\":{\"relationship\":\"urn:ngsi-ld:Floor:1F\"}\n",
    "    },\n",
    "    {\n",
    "    \"type\":\"Room\",\n",
    "    \"id\":\"Living Room\",\n",
    "    \"metadata\":{\"relationship\":\"urn:ngsi-ld:Floor:2F\"}\n",
    "    },\n",
    "    {\n",
    "    \"type\":\"Room\",\n",
    "    \"id\":\"1F Rest Room\",\n",
    "    \"metadata\":{\"relationship\":\"urn:ngsi-ld:Floor:1F\"}\n",
    "    },\n",
    "    {\n",
    "    \"type\":\"Room\",\n",
    "    \"id\":\"2F Rest Room\",\n",
    "    \"metadata\":{\"relationship\":\"urn:ngsi-ld:Floor:2F\"}\n",
    "    },\n",
    "    {\n",
    "    \"type\":\"Room\",\n",
    "    \"id\":\"Basement\",\n",
    "    \"metadata\":{\"relationship\":\"urn:ngsi-ld:Floor:B1\"}\n",
    "    }\n",
    "]\n",
    "for room in roomDatas:\n",
    "    r=requests.post(__AIOTCORE__+\"/entities\",data=json.dumps(room))\n",
    "    print(\"Room Set Status\",r.status_code,r.text)"
   ]
  },
  {
   "cell_type": "markdown",
   "metadata": {},
   "source": [
    "## 4. Setup Service Group"
   ]
  },
  {
   "cell_type": "code",
   "execution_count": null,
   "metadata": {},
   "outputs": [],
   "source": [
    "service_group=[{\"Name\":\"SG_Artifical\"},{\"Name\":\"SG_Real\"},{\"Name\":\"SG_Others\"}]\n",
    "r=requests.post(__AIOTCORE__+\"/service-groups\",data=json.dumps(service_group))\n",
    "print(r.status_code,r.text)"
   ]
  },
  {
   "cell_type": "markdown",
   "metadata": {},
   "source": [
    "## 5. Create IoT Devices"
   ]
  },
  {
   "cell_type": "markdown",
   "metadata": {},
   "source": [
    " **5.1. Setup IoT Agent IP address, which is tht domain name or ip of iotagent's container. Defined while install system, check the define in AIIOT-Project/Scripts/Setup/install.sh**\n",
    " "
   ]
  },
  {
   "cell_type": "code",
   "execution_count": null,
   "metadata": {},
   "outputs": [],
   "source": [
    "iota_ul=\"http://aiot-iotagent:4041\" \n",
    "# This is the combination of IOTA_UL:IOTA_UL_NPORT, \n",
    "# Which define in AIIOT-Project/Scripts/Setup/install.sh\n",
    "\n",
    "iota_json=\"http://aiot-iotagent-json:4042\"\n",
    "# This is the combination of IOTA_JSON:IOTA_JSON_NPORT, \n",
    "# Which define in AIIOT-Project/Scripts/Setup/install.sh"
   ]
  },
  {
   "cell_type": "markdown",
   "metadata": {},
   "source": [
    "**5.2. Install IoT Devices, where the fieldName is the dataset's name, which will need to match the picked dataset in [2.Pseudo_Data_Input](./2.Pseudo_Data_Input.ipynb), Step 4.**"
   ]
  },
  {
   "cell_type": "code",
   "execution_count": null,
   "metadata": {},
   "outputs": [],
   "source": [
    "sensors=[{\"agent_info\":{\n",
    "        \"iotagent\":iota_ul,\n",
    "        \"service_group\":\"SG_Artifical\",\n",
    "        },\n",
    "        \"sensor_info\":{\n",
    "            \"deviceName\":\"Sensor01\",\n",
    "            \"timeResolution\":str(5*60),\n",
    "            \"targetTime\":str(7*24*60*60),\n",
    "            \"targetModel\":\"HTM\",\n",
    "            \"refRoom\":\"urn:ngsi-ld:Room:Kitchen\",\n",
    "            \"savePeriod\":\"-1\",\n",
    "            \"retrainPeriod\":\"0\",\n",
    "            \"sensorName\":\"Artifically Daily Jumps Down\",\n",
    "            \"fieldName\":\"art_daily_jumpsdown\",\n",
    "            \"dataType\":\"Float\",\n",
    "            \"sensorType\":\"Temp\",\n",
    "            \"unit\" : \"Millisecond\",\n",
    "            \"dummy\": \"True\",\n",
    "            \"measurement\": \"COUNT\"\n",
    "            }\n",
    "        }\n",
    "    ,{\"agent_info\":{\n",
    "        \"iotagent\":iota_json,\n",
    "        \"service_group\":\"SG_Artifical\",\n",
    "        },\n",
    "        \"sensor_info\":{\n",
    "            \"deviceName\":\"Sensor02\",\n",
    "            \"timeResolution\":str(5*60),\n",
    "            \"targetTime\":str(7*24*60*60),\n",
    "            \"targetModel\":\"HTM\",\n",
    "            \"refRoom\":\"urn:ngsi-ld:Room:1F_Rest_Room\",\n",
    "            \"savePeriod\":\"-1\",\n",
    "            \"retrainPeriod\":\"0\",\n",
    "            \"sensorName\":\"Artifically Daily Jumps Up\",\n",
    "            \"fieldName\":\"art_daily_jumpsup\",\n",
    "            \"dataType\":\"Float\",\n",
    "            \"sensorType\":\"Temp\",\n",
    "            \"unit\" : \"Millisecond\",\n",
    "            \"dummy\": \"True\",\n",
    "            \"measurement\": \"COUNT\"\n",
    "            }\n",
    "        }\n",
    "    ,{\"agent_info\":{\n",
    "        \"iotagent\":iota_ul,\n",
    "        \"service_group\":\"SG_Real\",\n",
    "        },\n",
    "        \"sensor_info\":{\n",
    "            \"deviceName\":\"Sensor01\",\n",
    "            \"timeResolution\":\"300\",\n",
    "            \"targetTime\":str(7*24*60*60),\n",
    "            \"targetModel\":\"HTM\",\n",
    "            \"refRoom\":\"urn:ngsi-ld:Room:Living_Room\",\n",
    "            \"savePeriod\":\"-1\",\n",
    "            \"sensorName\":\"Request Latency\",\n",
    "            \"fieldName\":\"ec2_request_latency_system_failure\",\n",
    "            \"retrainPeriod\":\"0\",\n",
    "            \"dataType\":\"float\",\n",
    "            \"sensorType\":\"Latency\",\n",
    "            \"unit\" : \"Celsius\",\n",
    "            \"dummy\": \"True\",\n",
    "            \"measurement\": \"COUNT\"}}\n",
    "    ,{\"agent_info\":{\n",
    "        \"iotagent\":iota_json,\n",
    "        \"service_group\":\"SG_Real\",\n",
    "        },\n",
    "        \"sensor_info\":{\n",
    "            \"deviceName\":\"Sensor02\",\n",
    "            \"timeResolution\":\"300\", \n",
    "            \"targetTime\":str(7*24*60*60),\n",
    "            \"targetModel\":\"HTM\",\n",
    "            \"refRoom\":\"urn:ngsi-ld:Room:2F_Rest_Room\",\n",
    "            \"savePeriod\":\"-1\",\n",
    "            \"sensorName\":\"Machine Temperature\",\n",
    "            \"fieldName\":\"machine_temperature_system_failure\",\n",
    "            \"retrainPeriod\":\"0\",\n",
    "            \"dataType\":\"float\",\n",
    "            \"sensorType\":\"Temperature\",\n",
    "            \"unit\" : \"Celsius\",\n",
    "            \"dummy\": \"True\",\n",
    "            \"measurement\": \"COUNT\"}}]\n",
    "for d in sensors:\n",
    "    r=requests.post(__AIOTCORE__+\"/devices\",data=json.dumps(d))\n",
    "    print(\"Sensor Set Status\",r.status_code,r.text)"
   ]
  },
  {
   "cell_type": "markdown",
   "metadata": {},
   "source": [
    "## 6. Create Subscription"
   ]
  },
  {
   "cell_type": "code",
   "execution_count": null,
   "metadata": {},
   "outputs": [],
   "source": [
    "service_group=\"SG_Real\"\n",
    "condition=\"AnomalyFlag\"\n",
    "expression={\"Relational\":\"==\",\"Value\":\"true\"}\n",
    "data={\"Url\":__AIOTCORE__+\"/test\",\"Condition\":condition,\"Expression\":expression}\n",
    "r=requests.post(__AIOTCORE__+\"/subscriptions/\"+service_group,data=json.dumps(data))\n",
    "print(r.status_code,r.text)"
   ]
  },
  {
   "cell_type": "markdown",
   "metadata": {},
   "source": [
    "## 7. Create Group Anomaly Detection Subscription"
   ]
  },
  {
   "cell_type": "code",
   "execution_count": null,
   "metadata": {},
   "outputs": [],
   "source": [
    "service_group=\"SG_Artifical\"\n",
    "condition=\"GroupAnomaly\"\n",
    "policy=\"Default_Nearest_AND\"\n",
    "data={\"Url\":__AIOTCORE__+\"/test\",\"Condition\":condition,\"Policy\":policy,\"TimeWidth\":86400}\n",
    "r=requests.post(__AIOTCORE__+\"/subscriptions/\"+service_group,data=json.dumps(data))\n",
    "print(r.status_code,r.text)"
   ]
  },
  {
   "source": [
    "## 8. More Operation"
   ],
   "cell_type": "markdown",
   "metadata": {}
  },
  {
   "cell_type": "markdown",
   "metadata": {},
   "source": [
    "## Reset All Setup"
   ]
  },
  {
   "cell_type": "code",
   "execution_count": null,
   "metadata": {},
   "outputs": [],
   "source": [
    "r=requests.delete(__AIOTCORE__+\"/reset\")\n",
    "print(r.status_code,r.text)"
   ]
  },
  {
   "source": [
    "## Send Command"
   ],
   "cell_type": "markdown",
   "metadata": {}
  },
  {
   "cell_type": "code",
   "execution_count": null,
   "metadata": {},
   "outputs": [],
   "source": [
    "data={\n",
    "      'actionType':\"modelControl\",\n",
    "      'action':\"Train\",\n",
    "      'metadata':{\"metadata\":{\"TrainLimit\":30}}\n",
    "     }\n",
    "r=requests.post(__AIOTCORE__+\"/devices/SG_Others/Sensor3/controls\",data=json.dumps(data))\n",
    "print(r.status_code,r.text)"
   ]
  },
  {
   "source": [
    "## Remove Entity"
   ],
   "cell_type": "markdown",
   "metadata": {}
  },
  {
   "cell_type": "code",
   "execution_count": null,
   "metadata": {},
   "outputs": [],
   "source": [
    "r=requests.delete(__AIOTCORE__+\"/entities/urn:ngsi-ld:Floor:1F\")\n",
    "print(r.status_code,r.text)"
   ]
  },
  {
   "source": [
    "## Remove Entity's Attributes"
   ],
   "cell_type": "markdown",
   "metadata": {}
  },
  {
   "cell_type": "code",
   "execution_count": null,
   "metadata": {},
   "outputs": [],
   "source": [
    "r=requests.delete(__AIOTCORE__+\"/entities/urn:ngsi-ld:House:Rteslab/attrs/address\")\n",
    "print(r.status_code,r.text)"
   ]
  },
  {
   "source": [
    "## Remove Service Group"
   ],
   "cell_type": "markdown",
   "metadata": {}
  },
  {
   "cell_type": "code",
   "execution_count": null,
   "metadata": {},
   "outputs": [],
   "source": [
    "r=requests.delete(__AIOTCORE__+\"/service-groups/SG_Real\")\n",
    "print(r.status_code,r.text)"
   ]
  },
  {
   "source": [
    "## Remove IoT Sensor"
   ],
   "cell_type": "markdown",
   "metadata": {}
  },
  {
   "cell_type": "code",
   "execution_count": null,
   "metadata": {},
   "outputs": [],
   "source": [
    "r=requests.delete(__AIOTCORE__+\"/devices/SG_Real/Sensor02\")\n",
    "print(r.status_code,r.text)"
   ]
  },
  {
   "source": [
    "## Remove Subscription"
   ],
   "cell_type": "markdown",
   "metadata": {}
  },
  {
   "cell_type": "code",
   "execution_count": null,
   "metadata": {},
   "outputs": [],
   "source": [
    "r=requests.delete(__AIOTCORE__+\"/subscriptions/SG_Real/5ff36841453e43ed7861732d\")\n",
    "print(r.status_code,r.text)\n"
   ]
  },
  {
   "source": [
    "## GET Method\n",
    "* /entities -> List house information\n",
    "\n",
    "* /entities/<entityID> -> Show <entitiyID>'s detail\n",
    "* /attrs\n",
    "* /attrs/<attributes>\n",
    "* /attrs/<attributes>/value\n",
    "* ?options=keyValues\n",
    "* ?type=House,Floor,Room\n",
    "\n",
    "* /devices/<service_group> -> List Device under <service_group>\n",
    "* /devices/<service_group>/<deviceName> -> Show <deviceID>'s detail\n",
    "* /devices/<service_group>/<deviceName>/model -> Show <deviceID>'s Model State\n",
    "* /devices/<service_group>/<deviceName>/controls -> Show <deviceID>'s supported actionType and action\n",
    "* /devices/<service_group>/<deviceName>/data -> List Sensor Data\n",
    "* ?limit=<limit_count>\n",
    "* ?attrs=a,b\n",
    "\n",
    "\n",
    "* /subscriptions/<service_group> -> List Subscription under <service_group>\n",
    "* /subscriptions/<service_group>/<subscriptionID> -> Show <subscriptionID>'s detail\n",
    "\n",
    "* /service-groups -> List service-group\n",
    "* /service-groups/<service_group> -> show <service_group>'s detail\n",
    "* /service-groups/<service_group>/devices -> List Device under <service_group>\n",
    "* /service-groups/<service_group>/subscriptions -> List Subscription under <service_group>"
   ],
   "cell_type": "markdown",
   "metadata": {}
  },
  {
   "cell_type": "code",
   "execution_count": null,
   "metadata": {},
   "outputs": [],
   "source": [
    "r=requests.get(__AIOTCORE__+\"/devices/SG_Artifical/\")\n",
    "print(\"URL : {url}\\nStatus Code : {rtc}\\nInfo : {info}\".format(url=r.url,rtc=r.status_code,info=r.text))"
   ]
  },
  {
   "source": [
    "## Update Entity's Attributes"
   ],
   "cell_type": "markdown",
   "metadata": {}
  },
  {
   "cell_type": "code",
   "execution_count": null,
   "metadata": {},
   "outputs": [],
   "source": [
    "data={\"actionType\":\"append\",\"Name\":{\"type\":\"Text\",\"value\":\"NCKU\"}}\n",
    "r=requests.patch(__AIOTCORE__+\"/entities/urn:ngsi-ld:House:Rteslab\",data=json.dumps(data))\n",
    "print(r.status_code,r.text)"
   ]
  }
 ],
 "metadata": {
  "kernelspec": {
   "display_name": "Python 3",
   "language": "python",
   "name": "python3"
  },
  "language_info": {
   "codemirror_mode": {
    "name": "ipython",
    "version": 3
   },
   "file_extension": ".py",
   "mimetype": "text/x-python",
   "name": "python",
   "nbconvert_exporter": "python",
   "pygments_lexer": "ipython3",
   "version": "3.8.0"
  }
 },
 "nbformat": 4,
 "nbformat_minor": 4
}