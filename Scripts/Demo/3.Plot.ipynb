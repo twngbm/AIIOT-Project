{
 "cells": [
  {
   "cell_type": "markdown",
   "metadata": {},
   "source": [
    "# Polt the Anomaly Detection Result"
   ]
  },
  {
   "source": [
    "## 0. Install python package"
   ],
   "cell_type": "markdown",
   "metadata": {}
  },
  {
   "cell_type": "code",
   "execution_count": null,
   "metadata": {},
   "outputs": [],
   "source": [
    "!python3.8 -m pip install numpy matplotlib"
   ]
  },
  {
   "cell_type": "markdown",
   "metadata": {},
   "source": [
    "## 1. Import"
   ]
  },
  {
   "cell_type": "code",
   "execution_count": null,
   "metadata": {},
   "outputs": [],
   "source": [
    "import requests\n",
    "import datetime\n",
    "import numpy as np\n",
    "import matplotlib.pyplot as plt\n",
    "import csv\n",
    "import os\n",
    "import datetime\n",
    "import json\n",
    "import time\n",
    "import math"
   ]
  },
  {
   "cell_type": "markdown",
   "metadata": {},
   "source": [
    "## 2. Setup Env Var\n",
    "**\\_\\_AIOTCORE\\_\\_ is the aiot-core publice interface's IP address of aiot-core container.**"
   ]
  },
  {
   "cell_type": "code",
   "execution_count": null,
   "metadata": {},
   "outputs": [],
   "source": [
    "__AIOTCORE__=\"http://127.0.0.1:9250\""
   ]
  },
  {
   "cell_type": "markdown",
   "metadata": {},
   "source": [
    "## 3. Plot"
   ]
  },
  {
   "cell_type": "code",
   "execution_count": null,
   "metadata": {},
   "outputs": [],
   "source": [
    "with open(\"../../Dataset/NAB/combined_windows.json\",\"r\") as f:\n",
    "    labels=json.load(f)\n",
    "service_group=requests.get(f\"{__AIOTCORE__}/service-groups\").json()['value']\n",
    "for SG in service_group:\n",
    "    devices=requests.get(f\"{__AIOTCORE__}/service-groups/{SG}\").json()[\"Device\"]\n",
    "    for DeviceName in devices:\n",
    "        url=f\"{__AIOTCORE__}/devices/{SG}/{DeviceName}\"\n",
    "        data=requests.get(url).json()\n",
    "        fieldName=data[\"static_attributes\"][\"fieldName\"]\n",
    "        i=f\"{SG}/{DeviceName}\"\n",
    "        for gt in labels:\n",
    "            if fieldName in gt:\n",
    "                markAnomaly=labels[gt]\n",
    "                break\n",
    "        count=0\n",
    "        value_array=[]\n",
    "        prediction_array=[]\n",
    "        anomaly_likehood_array=[]\n",
    "        log_anomaly_likehood_array=[]\n",
    "        anomaly_score_array=[]\n",
    "        timestamp_array=[]\n",
    "        anomaly_timeslice=[]\n",
    "        markAnomalyTimeList=[]\n",
    "        markerList=[]\n",
    "        this=0\n",
    "        r=requests.get(__AIOTCORE__+\"/devices/\"+i+\"/data\").json()\n",
    "        r.reverse()\n",
    "        fig=plt.figure(figsize=(60,18), dpi= 100, facecolor='w', edgecolor='k')\n",
    "        plt.rcParams.update({'font.size': 42})\n",
    "        ax = plt.subplot(211)\n",
    "        bx = plt.subplot(212,sharex=ax)\n",
    "        for data in r:\n",
    "            if data[\"anomalyflag\"]==None:\n",
    "                continue\n",
    "            value=float(data[\"count\"])\n",
    "            value_array.append(value)\n",
    "            prediction_array.append(float(data[\"predictionvalue\"]))\n",
    "            anomaly_likehood_array.append(float(data[\"rawanomalylikehood\"]))\n",
    "            logamolikehood=float(data[\"anomalyscore\"])\n",
    "            timestamp = (datetime.timedelta(\n",
    "                            seconds=data[\"timestamp\"]/1000)+datetime.datetime(1970, 1, 1))\n",
    "            timestamp_array.append(timestamp)\n",
    "            log_anomaly_likehood_array.append(logamolikehood)\n",
    "            if data[\"anomalyflag\"]:\n",
    "                markerList.append([timestamp,value,logamolikehood])\n",
    "        maxVal=max(value_array)\n",
    "        minVal=min(value_array)\n",
    "        maxLog=max(log_anomaly_likehood_array)\n",
    "        minLog=min(log_anomaly_likehood_array)\n",
    "        \n",
    "\n",
    "        ax.set_ylabel(\"Value\")\n",
    "        markers=[\"X\"]\n",
    "        colors=[\"red\"]\n",
    "        m=0\n",
    "        \n",
    "        ax.set_ylim([minVal-0.05*(maxVal-minVal),maxVal+0.05*(maxVal-minVal)])\n",
    "        for timestamp in timestamp_array:\n",
    "            for mark in markAnomaly:\n",
    "                startTime=datetime.datetime.strptime(mark[0],\"%Y-%m-%d %H:%M:%S.000000\")\n",
    "                endTime=datetime.datetime.strptime(mark[1],\"%Y-%m-%d %H:%M:%S.000000\")\n",
    "                if timestamp>=startTime and timestamp<=endTime:\n",
    "                    markAnomalyTimeList.append(timestamp)\n",
    "        ax.bar(markAnomalyTimeList,height=maxVal,bottom=minVal,width=0.1,color=\"sandybrown\",zorder=-10,align='edge')\n",
    "        ax.plot(timestamp_array,value_array,color=\"blue\",linewidth=2,zorder=-5)\n",
    "        bx.bar(markAnomalyTimeList,height=1,bottom=0,width=0.1,color=\"sandybrown\",zorder=-10,align='edge')\n",
    "        bx.plot(timestamp_array,log_anomaly_likehood_array,color=\"Black\",linewidth=3.0,zorder=15)\n",
    "        for key in markerList:\n",
    "            ax.plot(key[0],key[1],linewidth=0,marker=markers[m],markerSize=45,zorder=5,color=colors[m],alpha=0.7)\n",
    "        for key in markerList:\n",
    "            bx.plot(key[0],key[2],linewidth=0,marker=markers[m],markerSize=45,zorder=5,color=colors[m],alpha=0.7)\n",
    "        bx.set_ylim([0,1])\n",
    "        bx.set_ylabel(\"Log Anomaly LikeliHood\")\n",
    "        plt.tight_layout()\n",
    "        plt.grid()\n",
    "        plt.show()\n",
    "        plt.savefig(\"./\"+i.replace(\"/\",\"_\")+\".png\")\n",
    "        print(\"Created\")\n",
    "        plt.close()"
   ]
  }
 ],
 "metadata": {
  "kernelspec": {
   "display_name": "Python 3",
   "language": "python",
   "name": "python3"
  },
  "language_info": {
   "codemirror_mode": {
    "name": "ipython",
    "version": 3
   },
   "file_extension": ".py",
   "mimetype": "text/x-python",
   "name": "python",
   "nbconvert_exporter": "python",
   "pygments_lexer": "ipython3",
   "version": "3.8.0"
  }
 },
 "nbformat": 4,
 "nbformat_minor": 4
}