{
 "cells": [
  {
   "cell_type": "code",
   "execution_count": 1,
   "metadata": {},
   "outputs": [],
   "source": [
    "import sys\n",
    "import subprocess\n",
    "import json\n",
    "import requests"
   ]
  },
  {
   "cell_type": "code",
   "execution_count": null,
   "metadata": {},
   "outputs": [],
   "source": []
  },
  {
   "cell_type": "code",
   "execution_count": 2,
   "metadata": {},
   "outputs": [],
   "source": [
    "ORION=\"http://fiware-orion:1026/\"\n",
    "QUANTUMLEAP=\"http://fiware-quantumleap:8668/\"\n",
    "IOT_AGENT=\"http://fiware-iotagent:4041/\"\n",
    "HEADER_JSON={\"Content-Type\": \"application/json\"}\n",
    "HEADER_TEXT_PLAIN={\"Content-Type\": \"text/plain\"}\n",
    "true=True\n",
    "false=False"
   ]
  },
  {
   "cell_type": "code",
   "execution_count": 4,
   "metadata": {},
   "outputs": [
    {
     "data": {
      "text/plain": [
       "'{\\n  \"version\": \"0.7.5\"\\n}\\n'"
      ]
     },
     "execution_count": 4,
     "metadata": {},
     "output_type": "execute_result"
    }
   ],
   "source": [
    "a=requests.get(QUANTUMLEAP+\"v2/version\")\n",
    "a.text"
   ]
  },
  {
   "cell_type": "code",
   "execution_count": 83,
   "metadata": {},
   "outputs": [
    {
     "name": "stdout",
     "output_type": "stream",
     "text": [
      "0\n"
     ]
    }
   ],
   "source": [
    "r=requests.get(ORION+\"/v2/entities\",params={\"type\":\"House\"})\n",
    "print(len(r.json()))"
   ]
  },
  {
   "cell_type": "code",
   "execution_count": 33,
   "metadata": {},
   "outputs": [],
   "source": [
    "data={\n",
    "    \"type\": \"House\",\n",
    "    \"id\": \"urn:ngsi-ld:Store:002\",\n",
    "    \"address\": {\n",
    "        \"type\": \"PostalAddress\",\n",
    "        \"value\": {\n",
    "            \"streetAddress\": \"Friedrichstraße 44\",\n",
    "            \"addressRegion\": \"Berlin\",\n",
    "            \"addressLocality\": \"Kreuzberg\",\n",
    "            \"postalCode\": \"10969\"\n",
    "        },\n",
    "        \"metadata\": {\n",
    "            \"verified\": {\n",
    "                \"value\": true,\n",
    "                \"type\": \"Boolean\"\n",
    "            }\n",
    "        }\n",
    "    },\n",
    "    \"location\": {\n",
    "        \"type\": \"geo:json\",\n",
    "        \"value\": {\n",
    "             \"type\": \"Point\",\n",
    "             \"coordinates\": [13.3903, 52.5075]\n",
    "        }\n",
    "    },\n",
    "    \"name\": {\n",
    "        \"type\": \"Text\",\n",
    "        \"value\": \"Checkpoint Markt\"\n",
    "    }\n",
    "}"
   ]
  },
  {
   "cell_type": "code",
   "execution_count": 58,
   "metadata": {},
   "outputs": [
    {
     "name": "stdout",
     "output_type": "stream",
     "text": [
      "{\"error\":\"Unprocessable\",\"description\":\"Already Exists\"}\n"
     ]
    }
   ],
   "source": [
    "h={\"Content-Type\": \"application/json\",\"fiware-service\": \"openiot\",\"fiware-servicepath\":\"/\"}\n",
    "r=requests.post(ORION+\"v2/entities\",headers=h,data=json.dumps(data))\n",
    "print(r.text)"
   ]
  },
  {
   "cell_type": "code",
   "execution_count": 7,
   "metadata": {},
   "outputs": [
    {
     "name": "stdout",
     "output_type": "stream",
     "text": [
      "{u'timezone': {u'type': u'Text', u'value': u'Asia/Taipei', u'metadata': {}}, u'type': u'House', u'id': u'urn:ngsi-ld:House:001', u'name': {u'type': u'Text', u'value': u'Rteslab', u'metadata': {}}, u'address': {u'type': u'PostalAddress', u'value': {u'addressRegion': u'Tainan City', u'streetAddress': u'No.1, University Road', u'Country': u'Taiwan,R.O.C.'}, u'metadata': {}}}\n",
      "{u'refHouse': {u'type': u'Relationship', u'value': u'urn:ngsi-ld:House:001', u'metadata': {}}, u'type': u'Floor', u'id': u'urn:ngsi-ld:Floor:1', u'floor': {u'type': u'Text', u'value': u'1F', u'metadata': {}}}\n",
      "{u'refHouse': {u'type': u'Relationship', u'value': u'urn:ngsi-ld:House:001', u'metadata': {}}, u'type': u'Floor', u'id': u'urn:ngsi-ld:Floor:2', u'floor': {u'type': u'Text', u'value': u'2F', u'metadata': {}}}\n",
      "{u'refHouse': {u'type': u'Relationship', u'value': u'urn:ngsi-ld:House:001', u'metadata': {}}, u'type': u'Floor', u'id': u'urn:ngsi-ld:Floor:3', u'floor': {u'type': u'Text', u'value': u'B1', u'metadata': {}}}\n",
      "{u'roomName': {u'type': u'Text', u'value': u'Kitchen', u'metadata': {}}, u'type': u'Room', u'id': u'urn:ngsi-ld:Room:1', u'refFloor': {u'type': u'Relationship', u'value': u'urn:ngsi-ld:Floor:1', u'metadata': {}}}\n",
      "{u'roomName': {u'type': u'Text', u'value': u'Living Room', u'metadata': {}}, u'type': u'Room', u'id': u'urn:ngsi-ld:Room:2', u'refFloor': {u'type': u'Relationship', u'value': u'urn:ngsi-ld:Floor:2', u'metadata': {}}}\n",
      "{u'roomName': {u'type': u'Text', u'value': u'Rest Room', u'metadata': {}}, u'type': u'Room', u'id': u'urn:ngsi-ld:Room:3', u'refFloor': {u'type': u'Relationship', u'value': u'urn:ngsi-ld:Floor:1', u'metadata': {}}}\n",
      "{u'roomName': {u'type': u'Text', u'value': u'Rest Room', u'metadata': {}}, u'type': u'Room', u'id': u'urn:ngsi-ld:Room:4', u'refFloor': {u'type': u'Relationship', u'value': u'urn:ngsi-ld:Floor:2', u'metadata': {}}}\n",
      "{u'roomName': {u'type': u'Text', u'value': u'Basement', u'metadata': {}}, u'type': u'Room', u'id': u'urn:ngsi-ld:Room:5', u'refFloor': {u'type': u'Relationship', u'value': u'urn:ngsi-ld:Floor:3', u'metadata': {}}}\n"
     ]
    }
   ],
   "source": [
    "h={\"fiware-service\": \"iota001\",\"fiware-servicepath\":\"/\"}\n",
    "r=requests.get(ORION+'v2/entities',headers=h).json()\n",
    "for i in r:\n",
    "    print(i)"
   ]
  },
  {
   "cell_type": "code",
   "execution_count": 82,
   "metadata": {
    "scrolled": true
   },
   "outputs": [],
   "source": [
    "if type(r)==list:\n",
    "    id_list=[]\n",
    "    for i in r:\n",
    "        id_list.append(i['id'])\n",
    "        print(i['id'])"
   ]
  },
  {
   "cell_type": "code",
   "execution_count": 80,
   "metadata": {},
   "outputs": [
    {
     "name": "stdout",
     "output_type": "stream",
     "text": [
      "\n",
      "\n",
      "\n",
      "\n",
      "\n",
      "\n",
      "\n",
      "\n",
      "\n"
     ]
    }
   ],
   "source": [
    "h2={\"fiware-service\": \"iota001\",\"fiware-servicepath\":\"/\"}\n",
    "for node_name in id_list:\n",
    "    r=requests.delete(ORION+\"v2/entities/\"+node_name,headers=h2)\n",
    "    print(r.text)"
   ]
  },
  {
   "cell_type": "code",
   "execution_count": 158,
   "metadata": {},
   "outputs": [
    {
     "name": "stdout",
     "output_type": "stream",
     "text": [
      "\n"
     ]
    }
   ],
   "source": [
    "curl -iX POST \\\n",
    "  'http://fiware_iotagent:4041/iot/devices' \\\n",
    "  -H 'Content-Type: application/json' \\\n",
    "  -H 'fiware-service: openiot' \\\n",
    "  -H 'fiware-servicepath: /' \\\n",
    "  -d '{\n",
    " \"devices\": [\n",
    "   {\n",
    "     \"device_id\":   \"motion003\",\n",
    "     \"entity_name\": \"urn:ngsi-ld:Motion:003\",\n",
    "     \"entity_type\": \"Motion\",\n",
    "     \"timezone\":    \"Europe/Berlin\",\n",
    "     \"attributes\": [\n",
    "       { \"object_id\": \"c\", \"name\": \"count\", \"type\": \"Integer\" }\n",
    "     ],\n",
    "     \"static_attributes\": [\n",
    "       { \"name\":\"refStore\", \"type\": \"Relationship\", \"value\": \"urn:ngsi-ld:Store:001\"},\n",
    "       {\"name\":\"timeStamp\",\"type\":\"String\",\"value\":\"123456\"}\n",
    "     ]\n",
    "   }\n",
    " ]\n",
    "}\n",
    "'"
   ]
  },
  {
   "cell_type": "code",
   "execution_count": null,
   "metadata": {},
   "outputs": [],
   "source": [
    "curl -X GET \\\n",
    "  'http://fiware-iotagent:4041/iot/devices' \\\n",
    "  -H 'fiware-service: iota001' \\\n",
    "  -H 'fiware-servicepath: /'"
   ]
  },
  {
   "cell_type": "code",
   "execution_count": null,
   "metadata": {},
   "outputs": [],
   "source": [
    "curl -X GET \\\n",
    "  'http://fiware-orion:1026/v2/entities' \\\n",
    "  -H 'fiware-service: iota001' \\\n",
    "  -H 'fiware-servicepath: /'"
   ]
  },
  {
   "cell_type": "code",
   "execution_count": null,
   "metadata": {},
   "outputs": [],
   "source": [
    "curl -iX POST \\\n",
    "  'http://fiware-iotagent:4041/iot/devices' \\\n",
    "  -H 'Content-Type: application/json' \\\n",
    "  -H 'fiware-service: iota001' \\\n",
    "  -H 'fiware-servicepath: /' \\\n",
    "  -d '{\n",
    "  \"devices\": [\n",
    "    {\n",
    "      \"device_id\": \"Sensor001\",\n",
    "      \"entity_name\": \"urn:ngsi-ld:Sensor:001\",\n",
    "      \"entity_type\": \"DummySensor\",\n",
    "      \"attributes\": [\n",
    "       {\"object_id\": \"COUNT\", \"name\": \"count\", \"type\": \"Float\"}\n",
    "      ],\n",
    "      \"static_attributes\": [\n",
    "        {\"name\":\"sensorName\", \"type\": \"Text\", \"value\": \"Tempempure Sensor\"},\n",
    "        {\"name\":\"fieldName\", \"type\": \"Text\", \"value\": \"In Room Tempempure\"},\n",
    "        {\"name\":\"refRoom\", \"type\": \"Relationship\", \"value\": \"urn:ngsi-ld:Room:001\"},\n",
    "        {\"name\":\"timeResolution\", \"type\": \"Integer\", \"value\": \"3600\"},\n",
    "        {\"name\":\"sensorType\", \"type\": \"Text\", \"value\": \"Tempempure\"},   \n",
    "        {\"name\":\"unit\", \"type\": \"Text\", \"value\": \"Celsius\"},\n",
    "        {\"name\":\"predictionValue\", \"type\": \"Float\", \"value\": \"None\"},\n",
    "        {\"name\":\"anomalyScore\", \"type\": \"Float\", \"value\": \"None\"},\n",
    "        {\"name\":\"anomalyLikehood\", \"type\": \"Float\", \"value\": \"None\"}\n",
    "      ]\n",
    "    }\n",
    "  ]\n",
    "}'"
   ]
  },
  {
   "cell_type": "code",
   "execution_count": null,
   "metadata": {},
   "outputs": [],
   "source": [
    "curl -iX POST \\\n",
    "  'http://fiware-iotagent:4041/iot/services' \\\n",
    "  -H 'Content-Type: application/json' \\\n",
    "  -H 'fiware-service: iota001' \\\n",
    "  -H 'fiware-servicepath: /' \\\n",
    "  -d '{\n",
    " \"services\": [\n",
    "   {\n",
    "     \"apikey\":      \"4jggokgpepnvsb2uv4s40d59ov\",\n",
    "     \"cbroker\":     \"http://fiware-orion:1026\",\n",
    "     \"entity_type\": \"Sensor\",\n",
    "     \"resource\":    \"/iot/d\"\n",
    "   }\n",
    " ]\n",
    "}'"
   ]
  },
  {
   "cell_type": "code",
   "execution_count": null,
   "metadata": {},
   "outputs": [],
   "source": [
    "curl -X GET \\\n",
    "  'http://fiware-iotagent:4041/iot/devices' \\\n",
    "  -H 'fiware-service: iota001' \\\n",
    "  -H 'fiware-servicepath: /'"
   ]
  },
  {
   "cell_type": "code",
   "execution_count": null,
   "metadata": {},
   "outputs": [],
   "source": [
    "curl -iX DELETE \\\n",
    "  'http://fiware-iotagent:4041/iot/devices/Sensor01' \\\n",
    "  -H 'fiware-service: iota001' \\\n",
    "  -H 'fiware-servicepath: /'"
   ]
  },
  {
   "cell_type": "code",
   "execution_count": null,
   "metadata": {},
   "outputs": [],
   "source": [
    "curl -iX DELETE \\\n",
    "  'http://fiware-orion:1026/v2/entities/urn:ngsi-ld:Electricity:01' \\\n",
    "  -H 'fiware-service: iota001' \\\n",
    "  -H 'fiware-servicepath: /'"
   ]
  },
  {
   "cell_type": "code",
   "execution_count": null,
   "metadata": {},
   "outputs": [],
   "source": [
    "curl -iX DELETE \\\n",
    "  'http://fiware-iotagent:4041/iot/services/?resource=/iot/d&apikey=4jggokgpepnvsb2uv4s40d59ov' \\\n",
    "  -H 'fiware-service: iota' \\\n",
    "  -H 'fiware-servicepath: /'"
   ]
  },
  {
   "cell_type": "code",
   "execution_count": null,
   "metadata": {},
   "outputs": [],
   "source": [
    "curl -iX DELETE \\\n",
    "  -H 'fiware-service: iota001' \\\n",
    "  -H 'fiware-servicepath: /' \\\n",
    "  --url 'http://fiware-orion:1026/v2/entities/urn:ngsi-ld::001'"
   ]
  },
  {
   "cell_type": "code",
   "execution_count": null,
   "metadata": {},
   "outputs": [],
   "source": [
    "curl -iX POST \\\n",
    "  'http://fiware-orion:1026/v2/subscriptions/' \\\n",
    "  -H 'Content-Type: application/json' \\\n",
    "  -H 'fiware-service: iota001' \\\n",
    "  -H 'fiware-servicepath: /' \\\n",
    "  -d '{\n",
    "  \"description\": \"Notify QuantumLeap of count changes of any Motion Sensor\",\n",
    "  \"subject\": {\n",
    "    \"entities\": [\n",
    "      {\n",
    "        \"idPattern\": \".*\",\n",
    "        \"type\":\"Sensor\"\n",
    "      }\n",
    "    ],\n",
    "    \"condition\": {\n",
    "      \"attrs\": [\n",
    "        \"value\"\n",
    "      ]\n",
    "    }\n",
    "  },\n",
    "  \"notification\": {\n",
    "    \"http\": {\n",
    "      \"url\": \"http://flask-test:5000/\"\n",
    "    },\n",
    "    \"attrs\": [\n",
    "      \"value\"\n",
    "    ],\n",
    "    \"metadata\": [\"dateCreated\", \"dateModified\"]\n",
    "  },\n",
    "  \"throttling\": 1\n",
    "}'"
   ]
  },
  {
   "cell_type": "code",
   "execution_count": null,
   "metadata": {},
   "outputs": [],
   "source": [
    "curl -X GET \\\n",
    "  'http://fiware-orion:1026/v2/subscriptions/' \\\n",
    "  -H 'fiware-service: iota001' \\\n",
    "  -H 'fiware-servicepath: /'"
   ]
  },
  {
   "cell_type": "code",
   "execution_count": null,
   "metadata": {},
   "outputs": [],
   "source": [
    "curl -X GET \\\n",
    "  'http://fiware-quantumleap:8668/v2/entities/Sensor001/attrs/value?limit=3' \\\n",
    "  -H 'Accept: application/json' \\\n",
    "  -H 'Fiware-Service: openiot' \\\n",
    "  -H 'Fiware-ServicePath: /'"
   ]
  },
  {
   "cell_type": "code",
   "execution_count": null,
   "metadata": {},
   "outputs": [],
   "source": [
    "curl -iX POST \\\n",
    "  'http://fiware-iotagent:7896/iot/d?k=4jggokgpepnvsb2uv4s40d59ov&i=Sensor001' \\\n",
    "  -H 'Content-Type: text/plain' \\\n",
    "  -d 'VALUE|4'"
   ]
  },
  {
   "cell_type": "code",
   "execution_count": null,
   "metadata": {},
   "outputs": [],
   "source": [
    "curl -X POST \\\n",
    "'http://fiware-quantumleap:8668/v2/subscribe?orionUrl=http://fiware-orion:1026/v2&quantumleapUrl=http://fiware-quantumleap:8668/v2&entityType=Sensor' \\\n",
    "-H 'Accept: application/json' \\\n",
    "  -H 'Fiware-Service: openiot' \\\n",
    "  -H 'Fiware-ServicePath: /'"
   ]
  },
  {
   "cell_type": "raw",
   "metadata": {},
   "source": [
    "r=requests.post(\"http://flask-test:5000\",data={\"asd\",\"bar\"})"
   ]
  },
  {
   "cell_type": "code",
   "execution_count": 13,
   "metadata": {},
   "outputs": [
    {
     "data": {
      "text/plain": [
       "CompletedProcess(args=['curl', '-iX', 'POST', 'http://flask-test:5000', '-d', \"{'ddd','abc'}\"], returncode=0)"
      ]
     },
     "execution_count": 13,
     "metadata": {},
     "output_type": "execute_result"
    }
   ],
   "source": [
    "subprocess.run([\"curl\",\"-iX\",\"POST\",\"http://flask-test:5000\",\"-d\",\"{'ddd','abc'}\"])"
   ]
  },
  {
   "cell_type": "code",
   "execution_count": 4,
   "metadata": {},
   "outputs": [
    {
     "name": "stdout",
     "output_type": "stream",
     "text": [
      "<class 'set'>\n"
     ]
    }
   ],
   "source": [
    "\n",
    "a={1,2,3,4,5,6}\n",
    "print(type(a))"
   ]
  }
 ],
 "metadata": {
  "kernelspec": {
   "display_name": "Python 3",
   "language": "python",
   "name": "python3"
  },
  "language_info": {
   "codemirror_mode": {
    "name": "ipython",
    "version": 3
   },
   "file_extension": ".py",
   "mimetype": "text/x-python",
   "name": "python",
   "nbconvert_exporter": "python",
   "pygments_lexer": "ipython3",
   "version": "3.6.9"
  }
 },
 "nbformat": 4,
 "nbformat_minor": 2
}
